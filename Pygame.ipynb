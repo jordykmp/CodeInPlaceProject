{
 "cells": [
  {
   "cell_type": "markdown",
   "metadata": {},
   "source": [
    "# KAREL BEING KAREL"
   ]
  },
  {
   "cell_type": "markdown",
   "metadata": {},
   "source": [
    "This is a game using **pygame module** the objective of this game is to do what *KAREL* does best, PICKING BEEPERS!! <br> But it won't be easy! *KAREL* will need to avoid standford trees in order to pick up the beepers. It will be displayed 30 beepers.<br> Do you think that you have all that it takes to help *KAREL*? \n",
    "## **LET'S GO!**"
   ]
  },
  {
   "cell_type": "markdown",
   "metadata": {},
   "source": [
    "First let's import some modules that will help **KAREL**"
   ]
  },
  {
   "cell_type": "code",
   "execution_count": 1,
   "metadata": {},
   "outputs": [
    {
     "name": "stdout",
     "output_type": "stream",
     "text": [
      "pygame 2.0.1 (SDL 2.0.14, Python 3.8.5)\n",
      "Hello from the pygame community. https://www.pygame.org/contribute.html\n"
     ]
    }
   ],
   "source": [
    "import random\n",
    "import pygame\n",
    "import time\n",
    "import math\n",
    "from pygame import mixer"
   ]
  },
  {
   "cell_type": "markdown",
   "metadata": {},
   "source": [
    "Next step is to introduce a name:"
   ]
  },
  {
   "cell_type": "code",
   "execution_count": 2,
   "metadata": {},
   "outputs": [
    {
     "name": "stdout",
     "output_type": "stream",
     "text": [
      "Enter player's name: Jordy\n"
     ]
    }
   ],
   "source": [
    "user_name = input('Enter player\\'s name: ')"
   ]
  },
  {
   "cell_type": "markdown",
   "metadata": {},
   "source": [
    "Then, it is necessary to charge some functions."
   ]
  },
  {
   "cell_type": "code",
   "execution_count": 3,
   "metadata": {},
   "outputs": [],
   "source": [
    "def show_beeper(x, y):\n",
    "    screen.blit(beeper_img,(x, y))  \n",
    "\n",
    "def karel(x,y):\n",
    "    screen.blit(karel_img,(x, y))\n",
    "    \n",
    "    \n",
    "def tree(x,y,i):\n",
    "    screen.blit(tree_img[i],(x, y))\n",
    "    \n",
    "def pick_beeper(karelX, karelY, beeperX, beeperY):\n",
    "    distance = math.sqrt(((beeperX-karelX)**2) + math.pow(beeperY-karelY,2))\n",
    "    if distance < 30:\n",
    "        return True\n",
    "    else:\n",
    "        return False\n",
    "    \n",
    "def is_collision(karelX, karelY, treeX, treeY):\n",
    "    distance = math.sqrt(((treeX-karelX)**2) + math.pow(treeY-karelY,2))\n",
    "    if int(distance) < 30:\n",
    "        return True\n",
    "    else:\n",
    "        return False\n",
    "\n",
    "\n",
    "#Functions that allow adding text to show it on the screen\n",
    "def show_score(x,y):\n",
    "    text = font.render(user_name.upper() + ' SCORE: '+ str(score_value), True, (255,255,255))\n",
    "    screen.blit(text, (x,y))\n",
    "    \n",
    "def game_over_text():\n",
    "    over_text = game_over_font.render('GAME OVER', True, (255,255,255))\n",
    "    screen.blit(over_text, (200, 250))\n",
    "    \n",
    "def show_winner_message():\n",
    "    winner_font = pygame.font.Font('freesansbold.ttf',128)\n",
    "    winner_text = winner_font.render('VICTORY!', True, (255,200,255))\n",
    "    screen.blit(winner_text, (100, 175))"
   ]
  },
  {
   "cell_type": "markdown",
   "metadata": {},
   "source": [
    "And finally load our game. "
   ]
  },
  {
   "cell_type": "code",
   "execution_count": 4,
   "metadata": {},
   "outputs": [],
   "source": [
    "'''Initializing Pygame'''\n",
    "pygame.init()\n",
    "\n",
    "#creating the screen\n",
    "size = 800, 600\n",
    "screen = pygame.display.set_mode(size)\n",
    "\n",
    "#Background Image\n",
    "background = pygame.image.load('space1.jpg') #'''descargar imagen de fondo'''\n",
    "\n",
    "#Background sound\n",
    "mixer.music.load('background.wav') \n",
    "mixer.music.play(-1,0.0,20) #looping the music\n",
    "\n",
    "\n",
    "#Title and Icon\n",
    "pygame.display.set_caption('KAREL BEING KAREL') #32x32 in draw.io\n",
    "icon = pygame.image.load('earth.png')\n",
    "pygame.display.set_icon(icon)\n",
    "\n",
    "#KAREL\n",
    "karel_img = pygame.image.load('karel.png')\n",
    "karelX = 30\n",
    "karelY = 480\n",
    "karelX_change = 0\n",
    "karelY_change = 0\n",
    "\n",
    "#Trees\n",
    "tree_img = []\n",
    "treeX = []\n",
    "treeY = []\n",
    "treeX_change = []\n",
    "treeY_change = []\n",
    "number_of_trees = 10\n",
    "\n",
    "#Multiple Trees\n",
    "for i in range(number_of_trees):\n",
    "    tree_img.append(pygame.image.load('logo.png'))\n",
    "    treeX.append(random.randint(0,736))\n",
    "    treeY.append(random.randint(50,150))\n",
    "    treeX_change.append(0.3)\n",
    "    treeY_change.append(50)\n",
    "\n",
    "#Beepers\n",
    "beeper_img = pygame.image.load('beepers.png')\n",
    "beeperX = random.randint(50,750)\n",
    "beeperY = random.randint(100,550)\n",
    "\n",
    "#Adding score\n",
    "score_value = 0\n",
    "font = pygame.font.Font('freesansbold.ttf',32)\n",
    "scoreX = 10\n",
    "scoreY = 10\n",
    "\n",
    "#Game over font and image\n",
    "game_over_font = pygame.font.Font('freesansbold.ttf',64)\n",
    "\n",
    "\n",
    "#Looping Game\n",
    "running = True\n",
    "\n",
    "while running:\n",
    "    \n",
    "    screen.fill((255,255,255)) #RGB values\n",
    "    #Loading Background image on screen\n",
    "    screen.blit(background,(0,0))\n",
    "    \n",
    "    for event in pygame.event.get():\n",
    "        #Closing window\n",
    "        if event.type == pygame.QUIT:\n",
    "            running = False\n",
    "            pygame.quit()\n",
    "        if event.type == pygame.MOUSEBUTTONDOWN:   \n",
    "            fade(800,600)\n",
    "        \n",
    "        if event.type == pygame.KEYDOWN:\n",
    "            #moving left and right\n",
    "            if event.key == pygame.K_LEFT:\n",
    "                karelX_change = -0.5\n",
    "            if event.key == pygame.K_RIGHT:\n",
    "                karelX_change = 0.5\n",
    "                \n",
    "            #moving up and down\n",
    "            if event.key == pygame.K_UP:\n",
    "                karelY_change = -0.5\n",
    "            if event.key == pygame.K_DOWN:\n",
    "                karelY_change = 0.5\n",
    "                \n",
    "        if event.type == pygame.KEYUP:\n",
    "            if event.key == pygame.K_LEFT or event.key == pygame.K_RIGHT:\n",
    "                karelX_change = 0\n",
    "            if event.key == pygame.K_UP or event.key == pygame.K_DOWN:\n",
    "                karelY_change = 0\n",
    "    \n",
    "    #Movement of Karel\n",
    "    karelX += karelX_change\n",
    "    karelY += karelY_change\n",
    "    \n",
    "    if karelX <= 0:\n",
    "        karelX = 0\n",
    "    elif karelX >= 736:\n",
    "        karelX = 736\n",
    "        \n",
    "    #Beeper Picking up\n",
    "    picked = pick_beeper(karelX, karelY, beeperX, beeperY)\n",
    "    if picked:\n",
    "        pickupSound = mixer.Sound('pick_up.wav')\n",
    "        pickupSound.play()\n",
    "        show_beeper(beeperX, beeperY)\n",
    "        score_value += 1\n",
    "        beeperX = random.randint(50,750)\n",
    "        beeperY = random.randint(100,550)\n",
    "        \n",
    "        #WINNER condition\n",
    "        if score_value == 10:\n",
    "            for j in range(number_of_trees):\n",
    "                treeY[j] = 2000 #moving out the screen\n",
    "                beeperX = 2000  #moving out the screen\n",
    "            pygame.mixer.music.pause()\n",
    "            winnerSound = mixer.Sound('winner.wav')\n",
    "            winnerSound.play()\n",
    "            show_winner_message()\n",
    "            karel(370,400)\n",
    "            pygame.display.update()\n",
    "            victorySound = mixer.Sound('victory.wav')\n",
    "            victorySound.play()\n",
    "            time.sleep(3)\n",
    "            break\n",
    "\n",
    "\n",
    "    #Movement of trees\n",
    "    for i in range(number_of_trees):\n",
    "        \n",
    "        #collision with trees\n",
    "        collision = is_collision(karelX, karelY, treeX[i], treeY[i])\n",
    "        if collision:\n",
    "            for j in range(number_of_trees):\n",
    "                treeY[j] = 2000 #moving out the screen\n",
    "                beeperY = 2000  #moving out the screen\n",
    "            pygame.mixer.music.pause()\n",
    "            game_overSound = mixer.Sound('game_over.wav')\n",
    "            game_overSound.play()\n",
    "            game_over_text()\n",
    "            pygame.display.update()\n",
    "            time.sleep(3)\n",
    "            pass\n",
    "        \n",
    "        treeX[i] += treeX_change[i] \n",
    "        \n",
    "        if treeX[i] <= 0:\n",
    "            treeX_change[i] = 0.5\n",
    "            treeY[i] += treeY_change[i]\n",
    "            if treeY[i] >= 500 and treeY[i] < 2000:\n",
    "                treeY[i] = 50\n",
    "\n",
    "                \n",
    "        elif treeX[i] >= 736:\n",
    "            treeX_change[i] = -0.5\n",
    "            treeY[i] += treeY_change[i]\n",
    "            if treeY[i] >= 500 and treeY[i] < 2000:\n",
    "                treeY[i] = 50\n",
    " \n",
    "        #Adding tree\n",
    "        tree(treeX[i], treeY[i], i)\n",
    "    \n",
    "              \n",
    "    show_score(scoreX,scoreY)\n",
    "    karel(karelX, karelY)\n",
    "    show_beeper(beeperX, beeperY)\n",
    "    pygame.display.update()\n"
   ]
  },
  {
   "cell_type": "code",
   "execution_count": null,
   "metadata": {},
   "outputs": [],
   "source": [
    "\n",
    "def fade(width, height):\n",
    "    fade = pygame.Surface(width, height)\n",
    "    fade.fill((0,0,0))\n",
    "    for alpha in range(0,300):\n",
    "        fade.set_alpha(alpha)\n",
    "        redrawWindow()\n",
    "        screen.blit(fade, (0,0))\n",
    "        pygame.display.update()\n",
    "        pygame.time.delay(5)"
   ]
  }
 ],
 "metadata": {
  "kernelspec": {
   "display_name": "Python 3",
   "language": "python",
   "name": "python3"
  },
  "language_info": {
   "codemirror_mode": {
    "name": "ipython",
    "version": 3
   },
   "file_extension": ".py",
   "mimetype": "text/x-python",
   "name": "python",
   "nbconvert_exporter": "python",
   "pygments_lexer": "ipython3",
   "version": "3.8.5"
  }
 },
 "nbformat": 4,
 "nbformat_minor": 4
}
